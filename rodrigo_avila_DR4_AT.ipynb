{
 "cells": [
  {
   "cell_type": "markdown",
   "metadata": {},
   "source": [
    "# INFNET\n",
    "## Engenharia de Prompts para Ciência de Dados [24E4_4] - AT\n",
    "### Rodrigo Avila - 22/12/2024\n",
    "\n",
    "---"
   ]
  },
  {
   "cell_type": "markdown",
   "metadata": {},
   "source": [
    "### Exercício 2: Criação de Textos com LLMs\n",
    "\n",
    "Utilize a sua conta no “poe.com” para gerar um texto curto (2 parágrafos) que explique a Câmara dos Deputados. Execute o mesmo prompt com 3 LLMs diferentes (claude, gemini e chatgpt) e:"
   ]
  },
  {
   "cell_type": "markdown",
   "metadata": {},
   "source": [
    "#### a) Explique as vantagens e desvantagens dos três LLMs escolhidos.\n",
    "\n",
    "Claude:\n",
    "- Vantagens:\n",
    "    - Ética e segurança como foco central: Claude é projetado para minimizar respostas que possam ser prejudiciais ou tóxicas, priorizando interações seguras.\n",
    "    - Foco em compliance: Útil para casos em que a conformidade com regulamentações e padrões éticos é essencial.\n",
    "- Desvantagens:\n",
    "    - Menor flexibilidade em tópicos técnicos: Pode não ser tão robusto quanto ChatGPT ou Gemini em tarefas altamente técnicas.\n",
    "    - Menor capacidade multimodal \n",
    "\n",
    "Gemini:\n",
    "- Vantagens:\n",
    "    - Capacidade multimodal: Gemini pode lidar com entradas de texto e imagem, o que pode ser útil para tarefas que envolvem múltiplos modos de entrada.\n",
    "    - Flexibilidade em tópicos técnicos: Pode ser mais robusto em termos de conhecimento técnico e especializado.\n",
    "    - Indicado em encontrar eventos mais recentes\n",
    "- Desvantagens:\n",
    "    - Menor foco em compliance: Pode gerar respostas que não são adequadas para ambientes regulamentados ou sensíveis.\n",
    "    - Em geral tem menos profundidade nas respostas ao se comparar com ChatGPT\n",
    "\n",
    "ChatGPT:\n",
    "- Vantagens:\n",
    "    - Profundidade nas respostas: ChatGPT pode fornecer respostas mais detalhadas e completas em comparação com outros modelos.\n",
    "    - Versatilidade: É um dos modelos mais amplamente usados, com excelente desempenho em tarefas criativas, técnicas e educacionais.\n",
    "    - Costuma ser melhor na parte criativa\n",
    "- Desvantagens:\n",
    "    - Custos de uso: Em geral, pode ser mais caro de usar em comparação com outros modelos.\n",
    "    - Menor foco em compliance: Pode gerar respostas que não são adequadas para ambientes regulamentados ou sensíveis.\n",
    "\n"
   ]
  },
  {
   "cell_type": "markdown",
   "metadata": {},
   "source": [
    "#### b) Argumente sobre a diferença entre a resposta dos 3 LLMs\n",
    "\n",
    "Claude: Foi o que teve a resposta mais \"rasa\" e menos detalhada, focando mais em aspectos gerais, sem entrar em muitos detalhes específicos.\n",
    "\n",
    "Gemini: Apresentou uma resposta mais detalhada e com mais informações sobre a Câmara dos Deputados, incluindo aspectos como a composição, funções e processos.\n",
    "\n",
    "ChatGPT: Fornecendo uma resposta mais abrangente e detalhada, com uma explicação mais completa sobre a Câmara dos Deputados, acredito que abordou todos os aspectos necessários e importantes."
   ]
  },
  {
   "cell_type": "markdown",
   "metadata": {},
   "source": [
    "#### c) Justifique a escolha da resposta final\n",
    "Para o \"use case\" em questão, a melhor resposta foi a do Chat GPT, pois foi uma pergunta bem genérica \"Explique a Câmara dos Deputados\", e nesse caso, acredito que a profundidade da resposta e o detalhamento é o mais importante."
   ]
  },
  {
   "cell_type": "markdown",
   "metadata": {},
   "source": [
    "#### d) Atualize o prompt do LLM final para gerar um arquivo data/config.yaml com a resposta final (chave: overview_summary).\n",
    "Obs: verificar arquivo /data/config.yaml"
   ]
  }
 ],
 "metadata": {
  "kernelspec": {
   "display_name": "3.11.9",
   "language": "python",
   "name": "python3"
  },
  "language_info": {
   "name": "python",
   "version": "3.11.9"
  }
 },
 "nbformat": 4,
 "nbformat_minor": 2
}
